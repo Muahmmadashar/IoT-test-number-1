{
  "nbformat": 4,
  "nbformat_minor": 0,
  "metadata": {
    "colab": {
      "name": "Untitled6.ipynb",
      "provenance": []
    },
    "kernelspec": {
      "name": "python3",
      "display_name": "Python 3"
    },
    "language_info": {
      "name": "python"
    }
  },
  "cells": [
    {
      "cell_type": "code",
      "execution_count": 69,
      "metadata": {
        "colab": {
          "base_uri": "https://localhost:8080/"
        },
        "id": "wnrtzl_MiWUo",
        "outputId": "9620be8a-71d9-48e9-eec9-78efe2b93a5f"
      },
      "outputs": [
        {
          "output_type": "stream",
          "name": "stdout",
          "text": [
            "1 3 5 7 9 "
          ]
        }
      ],
      "source": [
        "#Q1\n",
        "\n",
        "list1=[1,2,3,4,5,6,7,8,9]\n",
        "for num in list1:\n",
        "  if num % 2 != 0:\n",
        "    print(num, end = \" \")\n"
      ]
    },
    {
      "cell_type": "code",
      "source": [
        "#Q2\n",
        "sum = 0\n",
        "list2 = [1,2,3,4,5,6,7,8,9]\n",
        "for i in range(0, len(list2)):\n",
        "   sum = sum + list2[i]\n",
        "print(\"Sum of all elements in given list: \", sum)"
      ],
      "metadata": {
        "colab": {
          "base_uri": "https://localhost:8080/"
        },
        "id": "JO5tjjUYj7lL",
        "outputId": "5e3a6606-2daa-4c56-a426-10e92c01615b"
      },
      "execution_count": 13,
      "outputs": [
        {
          "output_type": "stream",
          "name": "stdout",
          "text": [
            "Sum of all elements in given list:  45\n"
          ]
        }
      ]
    },
    {
      "cell_type": "code",
      "source": [
        "#Q3\n",
        "list2 = [1,2,3,4,5,6,7,8,9]\n",
        "list2.reverse()\n",
        "print(list2)"
      ],
      "metadata": {
        "colab": {
          "base_uri": "https://localhost:8080/"
        },
        "id": "_aA1O4XXnlbb",
        "outputId": "2ad36d14-4ccd-465d-f5a3-76f36870d813"
      },
      "execution_count": 20,
      "outputs": [
        {
          "output_type": "stream",
          "name": "stdout",
          "text": [
            "[9, 8, 7, 6, 5, 4, 3, 2, 1]\n"
          ]
        }
      ]
    },
    {
      "cell_type": "code",
      "source": [
        "#Q3\n",
        "list2 = [1,2,3,4,5,6,7,8,9]\n",
        "print(list2[::-1])"
      ],
      "metadata": {
        "colab": {
          "base_uri": "https://localhost:8080/"
        },
        "id": "KsbBT7eFrh3D",
        "outputId": "16fd305e-d8e0-4513-8a72-fb101aff2ebe"
      },
      "execution_count": 21,
      "outputs": [
        {
          "output_type": "stream",
          "name": "stdout",
          "text": [
            "[9, 8, 7, 6, 5, 4, 3, 2, 1]\n"
          ]
        }
      ]
    },
    {
      "cell_type": "code",
      "source": [
        "#Q4\n",
        "list3 = [9,8,6,7,5,3,4,2]\n",
        "list3.sort()\n",
        "print(list3[-2::])"
      ],
      "metadata": {
        "colab": {
          "base_uri": "https://localhost:8080/"
        },
        "id": "RrSq0ttvrs1K",
        "outputId": "5c1c75e1-8b36-4828-fc3b-bc8f17c3af1c"
      },
      "execution_count": 40,
      "outputs": [
        {
          "output_type": "stream",
          "name": "stdout",
          "text": [
            "[8, 9]\n"
          ]
        }
      ]
    },
    {
      "cell_type": "code",
      "source": [
        "#Q5\n",
        "list3 = [9,8,6,7,5,3,4,2]\n",
        "list3.sort()\n",
        "print(list3[-2:-1])"
      ],
      "metadata": {
        "colab": {
          "base_uri": "https://localhost:8080/"
        },
        "id": "1tKVlv-ZulTS",
        "outputId": "d9d1fcd6-28c2-4512-d7b7-a063fabe5391"
      },
      "execution_count": 44,
      "outputs": [
        {
          "output_type": "stream",
          "name": "stdout",
          "text": [
            "[8]\n"
          ]
        }
      ]
    },
    {
      "cell_type": "code",
      "source": [
        "#Q6\n",
        "list5 = [\"ashar\",\"muneeb\",\"saqlain\",\"sami\"]\n",
        "list5.sort(reverse=True)\n",
        "print(list5)"
      ],
      "metadata": {
        "colab": {
          "base_uri": "https://localhost:8080/"
        },
        "id": "efT4NX5fvigb",
        "outputId": "e94241a6-cf74-4f06-8398-0f6b9198baa9"
      },
      "execution_count": 47,
      "outputs": [
        {
          "output_type": "stream",
          "name": "stdout",
          "text": [
            "['saqlain', 'sami', 'muneeb', 'ashar']\n"
          ]
        }
      ]
    },
    {
      "cell_type": "code",
      "source": [
        "#Q7\n",
        "string=input(\"inter string :\")\n",
        "b=\"\"\n",
        "for i in string:\n",
        "    if i not in b:\n",
        "        b=b+i\n",
        "print(b)"
      ],
      "metadata": {
        "colab": {
          "base_uri": "https://localhost:8080/"
        },
        "id": "KOoweNVNxHSa",
        "outputId": "bd5c3c13-408d-4287-9f50-4ef5b824b16a"
      },
      "execution_count": 72,
      "outputs": [
        {
          "output_type": "stream",
          "name": "stdout",
          "text": [
            "inter string :asharanis\n",
            "ashrni\n"
          ]
        }
      ]
    },
    {
      "cell_type": "code",
      "source": [
        "#Q8\n",
        "ch = input(\"Please Enter Your Own Character : \")\n",
        "if len(ch)==1:\n",
        "  if(ch == 'a' or ch == 'e' or ch == 'i' or ch == 'o' or ch == 'u' or ch == 'A'\n",
        "       or ch == 'E' or ch == 'I' or ch == 'O' or ch == 'U'):\n",
        "    print(\"The Given Character \", ch, \"is a Vowel\")\n",
        "  else:\n",
        "      print(\"The Given Character \", ch, \"is a Consonant\")\n",
        "else:\n",
        "  print(\"Enter only one character!\")"
      ],
      "metadata": {
        "colab": {
          "base_uri": "https://localhost:8080/"
        },
        "id": "ZmSRRMh_ykBD",
        "outputId": "e0c01a85-3228-4b33-c3ce-274455e10f82"
      },
      "execution_count": 71,
      "outputs": [
        {
          "output_type": "stream",
          "name": "stdout",
          "text": [
            "Please Enter Your Own Character : g\n",
            "The Given Character  g is a Consonant\n"
          ]
        }
      ]
    },
    {
      "cell_type": "code",
      "source": [
        "#Q9num=(int(input(\"Enter length for factorial = \")))\n",
        "factorial = 1\n",
        "if num < 0:\n",
        "   print(\"Sorry, factorial does not exist for negative numbers\")\n",
        "elif num == 0:\n",
        "   print(\"The factorial of 0 is 1\")\n",
        "else:\n",
        "   for i in range(1,num + 1):\n",
        "       factorial = factorial*i\n",
        "   print(\"The factorial of\",num,\"is\",factorial)"
      ],
      "metadata": {
        "colab": {
          "base_uri": "https://localhost:8080/"
        },
        "id": "b7k0pwf1zDhK",
        "outputId": "519ba3fa-0b98-4d6c-aeec-fcbc63bdd7c0"
      },
      "execution_count": 73,
      "outputs": [
        {
          "output_type": "stream",
          "name": "stdout",
          "text": [
            "The factorial of 9 is 362880\n"
          ]
        }
      ]
    },
    {
      "cell_type": "code",
      "source": [
        "#Q10\n",
        "list9=[]\n",
        "n = int(input(\"Enter number of elements : \"))\n",
        "for i in range(n):\n",
        "    ele = int(input(\"Enter element \"))\n",
        "    list2.append(ele)\n",
        "list3=list1+list2\n",
        "print(list3)"
      ],
      "metadata": {
        "colab": {
          "base_uri": "https://localhost:8080/"
        },
        "id": "5O8zEoCvzFZS",
        "outputId": "83633a42-5756-4607-a903-ea7186596896"
      },
      "execution_count": 78,
      "outputs": [
        {
          "output_type": "stream",
          "name": "stdout",
          "text": [
            "Enter number of elements : 1\n",
            "Enter element 1\n",
            "[1, 2, 3, 4, 5, 6, 7, 8, 9, 12, 12, 12, 12, 1]\n"
          ]
        }
      ]
    }
  ]
}